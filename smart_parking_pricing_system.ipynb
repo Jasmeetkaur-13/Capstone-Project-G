{
 "cells": [
  {
   "cell_type": "markdown",
   "id": "40931b2d",
   "metadata": {},
   "source": [
    "# 🚗 Smart Parking Pricing System – Final Summer Analytics Submission"
   ]
  },
  {
   "cell_type": "markdown",
   "id": "54e0d2c5",
   "metadata": {},
   "source": [
    "\n",
    "## 📌 Overview\n",
    "This project implements a dynamic pricing system for parking lots based on real-time data such as occupancy, queue length, traffic conditions, vehicle types, and special days. The system evolves from a simple linear pricing model to a competitive pricing mechanism and supports real-time simulation with visualization.\n"
   ]
  },
  {
   "cell_type": "markdown",
   "id": "ba60867e",
   "metadata": {},
   "source": [
    "\n",
    "## 🧰 Tech Stack Used\n",
    "- **Python**: Data manipulation, model logic\n",
    "- **Pandas / NumPy / Scikit-learn**: Preprocessing and math\n",
    "- **Pathway**: Real-time data simulation\n",
    "- **Bokeh**: Interactive visualization\n",
    "- **Google Colab**: Notebook-based implementation\n"
   ]
  },
  {
   "cell_type": "markdown",
   "id": "f300ca17",
   "metadata": {},
   "source": [
    "\n",
    "## 🏗️ Architecture Diagram (Mermaid)\n",
    "```mermaid\n",
    "graph TD\n",
    "    A[Input Dataset] --> B[Preprocessing]\n",
    "    B --> C1[Model 1: Linear Pricing]\n",
    "    B --> C2[Model 2: Demand-Based Pricing]\n",
    "    B --> C3[Model 3: Competitive Pricing]\n",
    "    C1 --> D[Pricing Output Table]\n",
    "    C2 --> D\n",
    "    C3 --> D\n",
    "    D --> E[Real-Time Simulation (Pathway)]\n",
    "    D --> F[Visualization (Bokeh)]\n",
    "```\n"
   ]
  },
  {
   "cell_type": "markdown",
   "id": "5ddd9ea1",
   "metadata": {},
   "source": [
    "\n",
    "## 🔁 Project Workflow\n",
    "1. **Data Preprocessing**:\n",
    "   - Parse and format timestamps\n",
    "   - Encode categorical values (vehicle type, traffic condition)\n",
    "   - Normalize numerical fields (occupancy rate, queue length)\n",
    "\n",
    "2. **Model 1 – Linear Pricing**:\n",
    "   - Formula: `price = base_price + α × (occupancy/capacity)`\n",
    "\n",
    "3. **Model 2 – Demand-Based Pricing**:\n",
    "   - Weighted demand score based on traffic, queue, vehicle type, etc.\n",
    "   - Formula: `price = base_price × (1 + λ × demand)`\n",
    "\n",
    "4. **Model 3 – Competitive Pricing**:\n",
    "   - Uses haversine distance to adjust price based on nearby lot pricing\n",
    "\n",
    "5. **Real-Time Simulation**:\n",
    "   - Stream prices using Pathway (docs referenced)\n",
    "\n",
    "6. **Visualization**:\n",
    "   - Real-time Bokeh plot per parking lot\n",
    "   - Shows pricing trend with hover tooltips\n"
   ]
  },
  {
   "cell_type": "code",
   "execution_count": null,
   "id": "e3544c47",
   "metadata": {},
   "outputs": [],
   "source": [
    "\n",
    "import pandas as pd\n",
    "from sklearn.preprocessing import MinMaxScaler\n",
    "\n",
    "# Load dataset\n",
    "df = pd.read_csv(\"dataset.csv\")\n",
    "df['Timestamp'] = pd.to_datetime(df['LastUpdatedDate'] + ' ' + df['LastUpdatedTime'], format='%d-%m-%Y %H:%M:%S')\n",
    "df['VehicleTypeEncoded'] = df['VehicleType'].map({'car': 1.0, 'bike': 0.5, 'truck': 1.5})\n",
    "df['TrafficConditionEncoded'] = df['TrafficConditionNearby'].map({'low': 0, 'medium': 1, 'high': 2})\n",
    "df['OccupancyRate'] = df['Occupancy'] / df['Capacity']\n",
    "scaler = MinMaxScaler()\n",
    "df[['NormalizedOccupancyRate', 'NormalizedQueueLength']] = scaler.fit_transform(\n",
    "    df[['OccupancyRate', 'QueueLength']]\n",
    ")\n"
   ]
  },
  {
   "cell_type": "code",
   "execution_count": null,
   "id": "0ccbd6cd",
   "metadata": {},
   "outputs": [],
   "source": [
    "\n",
    "def linear_pricing_model(occupancy, capacity, base_price=10.0, alpha=5.0):\n",
    "    occupancy_rate = occupancy / capacity\n",
    "    return round(base_price + alpha * occupancy_rate, 2)\n",
    "\n",
    "df['LinearPrice'] = df.apply(lambda row: linear_pricing_model(row['Occupancy'], row['Capacity']), axis=1)\n"
   ]
  },
  {
   "cell_type": "code",
   "execution_count": null,
   "id": "7741a7b0",
   "metadata": {},
   "outputs": [],
   "source": [
    "\n",
    "def demand_based_price(row, base_price=10.0, lambd=0.5):\n",
    "    alpha, beta, gamma, delta, epsilon = 0.4, 0.3, 0.1, 0.1, 0.1\n",
    "    demand = (\n",
    "        alpha * row['NormalizedOccupancyRate'] +\n",
    "        beta * row['NormalizedQueueLength'] +\n",
    "        gamma * row['TrafficConditionEncoded'] / 2 +\n",
    "        delta * row['VehicleTypeEncoded'] / 1.5 +\n",
    "        epsilon * row['IsSpecialDay']\n",
    "    )\n",
    "    demand = min(max(demand, 0), 1)\n",
    "    return round(min(max(base_price * (1 + lambd * demand), 5), 20), 2)\n",
    "\n",
    "df['DemandPrice'] = df.apply(demand_based_price, axis=1)\n"
   ]
  },
  {
   "cell_type": "code",
   "execution_count": null,
   "id": "47af9c64",
   "metadata": {},
   "outputs": [],
   "source": [
    "\n",
    "import numpy as np\n",
    "\n",
    "def haversine(lat1, lon1, lat2, lon2):\n",
    "    R = 6371\n",
    "    phi1, phi2 = np.radians(lat1), np.radians(lat2)\n",
    "    dphi = np.radians(lat2 - lat1)\n",
    "    dlambda = np.radians(lon2 - lon1)\n",
    "    a = np.sin(dphi / 2)**2 + np.cos(phi1) * np.cos(phi2) * np.sin(dlambda / 2)**2\n",
    "    return R * 2 * np.arcsin(np.sqrt(a))\n",
    "\n",
    "def competitive_price(index, df, radius_km=1.0):\n",
    "    lat1, lon1 = df.loc[index, ['Latitude', 'Longitude']]\n",
    "    own_price = df.loc[index, 'DemandPrice']\n",
    "    neighbors = []\n",
    "    for i, row in df.iterrows():\n",
    "        if i == index: continue\n",
    "        dist = haversine(lat1, lon1, row['Latitude'], row['Longitude'])\n",
    "        if dist <= radius_km:\n",
    "            neighbors.append((row['DemandPrice'], row['Occupancy'] / row['Capacity']))\n",
    "    if not neighbors: return own_price\n",
    "    avg_price = np.mean([p for p, _ in neighbors])\n",
    "    avg_occ = np.mean([o for _, o in neighbors])\n",
    "    if avg_occ > 0.9 and avg_price > own_price:\n",
    "        return min(own_price + 1, 20)\n",
    "    elif avg_price < own_price:\n",
    "        return max(own_price - 1, 5)\n",
    "    return own_price\n",
    "\n",
    "df['CompetitivePrice'] = [competitive_price(i, df) for i in range(len(df))]\n"
   ]
  },
  {
   "cell_type": "code",
   "execution_count": null,
   "id": "72591055",
   "metadata": {},
   "outputs": [],
   "source": [
    "\n",
    "from bokeh.plotting import figure, show, output_notebook\n",
    "from bokeh.models import ColumnDataSource, HoverTool\n",
    "output_notebook()\n",
    "\n",
    "lot_id = df['SystemCodeNumber'].unique()[0]\n",
    "lot_data = df[df['SystemCodeNumber'] == lot_id].sort_values(by='Timestamp')\n",
    "source = ColumnDataSource(data={\n",
    "    'x': lot_data['Timestamp'],\n",
    "    'y': lot_data['CompetitivePrice'],\n",
    "    'occupancy': lot_data['Occupancy'],\n",
    "    'queue': lot_data['QueueLength']\n",
    "})\n",
    "\n",
    "p = figure(x_axis_type='datetime', title=f\"Pricing Trend for Lot {lot_id}\", width=900, height=350)\n",
    "p.line('x', 'y', source=source, line_width=2, color='navy', legend_label='Price')\n",
    "p.circle('x', 'y', source=source, size=6, color='orange', fill_alpha=0.5)\n",
    "p.add_tools(HoverTool(tooltips=[\n",
    "    (\"Time\", \"@x{%F %T}\"),\n",
    "    (\"Price\", \"@y\"),\n",
    "    (\"Occupancy\", \"@occupancy\"),\n",
    "    (\"Queue\", \"@queue\")\n",
    "], formatters={'@x': 'datetime'}, mode='vline'))\n",
    "p.xaxis.axis_label = 'Time'\n",
    "p.yaxis.axis_label = 'Price ($)'\n",
    "p.legend.click_policy = 'hide'\n",
    "show(p)\n"
   ]
  }
 ],
 "metadata": {},
 "nbformat": 4,
 "nbformat_minor": 5
}